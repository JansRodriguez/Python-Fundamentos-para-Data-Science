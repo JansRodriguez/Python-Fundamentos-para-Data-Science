{
 "cells": [
  {
   "cell_type": "markdown",
   "id": "ccc25bf3",
   "metadata": {},
   "source": [
    "## <center>Conhecendo o Chat GPT (3.5)</center>"
   ]
  },
  {
   "cell_type": "markdown",
   "id": "beec7800",
   "metadata": {},
   "source": [
    "Assistente baseado em Inteligencia Artificial.\n",
    "</br>Estamos escrevendo a evolução.\n",
    "</br><strong>Reiforcement Learning From Human Feedback (RLHF)</strong>\n",
    "</br><strong>Large Linguage Models (LLMs)</strong>"
   ]
  },
  {
   "cell_type": "code",
   "execution_count": null,
   "id": "e5c29171",
   "metadata": {},
   "outputs": [],
   "source": []
  }
 ],
 "metadata": {
  "kernelspec": {
   "display_name": "Python 3 (ipykernel)",
   "language": "python",
   "name": "python3"
  },
  "language_info": {
   "codemirror_mode": {
    "name": "ipython",
    "version": 3
   },
   "file_extension": ".py",
   "mimetype": "text/x-python",
   "name": "python",
   "nbconvert_exporter": "python",
   "pygments_lexer": "ipython3",
   "version": "3.9.7"
  }
 },
 "nbformat": 4,
 "nbformat_minor": 5
}
