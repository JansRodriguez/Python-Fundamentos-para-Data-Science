{
 "cells": [
  {
   "cell_type": "markdown",
   "metadata": {},
   "source": [
    "#### MÉTODOS DE CLASSE"
   ]
  },
  {
   "cell_type": "markdown",
   "metadata": {},
   "source": [
    "#### O que faz a diferença de utilizar POO são os métodos, o comportamento da classe."
   ]
  },
  {
   "cell_type": "markdown",
   "metadata": {},
   "source": [
    "Em Python, os métodos de classes são funções definidas dentro de uma classe, que realizam operações específicas em objetos criados a partir dessa classe. Os métodos da classe são usados para implementar o comportamento do objeto que pertence a essa classe."
   ]
  },
  {
   "cell_type": "markdown",
   "metadata": {},
   "source": [
    "Assim como as funções em Python, os métodos de classe podem receber argumentos e retornam valores. No entanto, diferentemente das funções normais, <strong>os métodos de classe sempre incluem o parâmetro self como primeiro argumento,</strong> que é <em>usado para se referir ao objeto da classe</em>."
   ]
  },
  {
   "cell_type": "markdown",
   "metadata": {},
   "source": [
    "O <strong>método init</strong> é um método especial que é chamado quando o objeto é criado a partir da classe. Esse método é <em>usado para inicializar os atributos do objeto</em>. Outros métodos podem ser definidos para executar tarefas específicas em um objeto, como calcular valores, realizar operações de entrada e saída, ou alterar o estado do objeto."
   ]
  },
  {
   "cell_type": "code",
   "execution_count": 1,
   "metadata": {},
   "outputs": [],
   "source": [
    "## Criando classe\n",
    "class Circulo:\n",
    "    ## Podemos ter um atributo ou variálvel fora dos métodos\n",
    "    pi = 3.14\n",
    "\n",
    "    ## Criando o método construtor que deve sempre existir\n",
    "    def __init__(self, raio = 6):\n",
    "    ## Quando o objeto dessa classe for criado, o construtor será executado com o valor default raio = 6\n",
    "        self.distCentroAoExtremo = raio\n",
    "    \n",
    "    ## Método que calcula a area]\n",
    "    def area(self):\n",
    "        return (self.distCentroAoExtremo * self.distCentroAoExtremo) * Circulo.pi\n",
    "    \n",
    "    ## Método para calcular o novo raio\n",
    "    def setRaio(self, raio):\n",
    "        self.distCentroAoExtremo = raio\n",
    "\n",
    "    ## Método para pegar o valor do raio\n",
    "    def getRaio(self):\n",
    "        return self.distCentroAoExtremo\n"
   ]
  },
  {
   "cell_type": "code",
   "execution_count": 2,
   "metadata": {},
   "outputs": [],
   "source": [
    "## Criando objeto para obter operações e realizar modificações\n",
    "circ1 = Circulo()"
   ]
  },
  {
   "cell_type": "code",
   "execution_count": 3,
   "metadata": {},
   "outputs": [
    {
     "data": {
      "text/plain": [
       "6"
      ]
     },
     "execution_count": 3,
     "metadata": {},
     "output_type": "execute_result"
    }
   ],
   "source": [
    "circ1.getRaio()"
   ]
  },
  {
   "cell_type": "code",
   "execution_count": 4,
   "metadata": {},
   "outputs": [],
   "source": [
    "circ1 = Circulo(13)"
   ]
  },
  {
   "cell_type": "code",
   "execution_count": 5,
   "metadata": {},
   "outputs": [
    {
     "data": {
      "text/plain": [
       "13"
      ]
     },
     "execution_count": 5,
     "metadata": {},
     "output_type": "execute_result"
    }
   ],
   "source": [
    "circ1.getRaio()"
   ]
  },
  {
   "cell_type": "code",
   "execution_count": 6,
   "metadata": {},
   "outputs": [],
   "source": [
    "circ1.setRaio(21)"
   ]
  },
  {
   "cell_type": "code",
   "execution_count": 7,
   "metadata": {},
   "outputs": [
    {
     "data": {
      "text/plain": [
       "21"
      ]
     },
     "execution_count": 7,
     "metadata": {},
     "output_type": "execute_result"
    }
   ],
   "source": [
    "circ1.getRaio()"
   ]
  },
  {
   "cell_type": "code",
   "execution_count": 8,
   "metadata": {},
   "outputs": [
    {
     "data": {
      "text/plain": [
       "1384.74"
      ]
     },
     "execution_count": 8,
     "metadata": {},
     "output_type": "execute_result"
    }
   ],
   "source": [
    "circ1.area()"
   ]
  },
  {
   "cell_type": "code",
   "execution_count": 9,
   "metadata": {},
   "outputs": [
    {
     "name": "stdout",
     "output_type": "stream",
     "text": [
      "O raio atual é:  21\n"
     ]
    }
   ],
   "source": [
    "print('O raio atual é: ', circ1.getRaio())"
   ]
  },
  {
   "cell_type": "code",
   "execution_count": 10,
   "metadata": {},
   "outputs": [
    {
     "name": "stdout",
     "output_type": "stream",
     "text": [
      "A área atual é:  1384.74\n"
     ]
    }
   ],
   "source": [
    "print('A área atual é: ', circ1.area())"
   ]
  },
  {
   "cell_type": "code",
   "execution_count": 11,
   "metadata": {},
   "outputs": [],
   "source": [
    "circ1.setRaio(10)"
   ]
  },
  {
   "cell_type": "code",
   "execution_count": 12,
   "metadata": {},
   "outputs": [
    {
     "name": "stdout",
     "output_type": "stream",
     "text": [
      "O novo raio é:  10\n"
     ]
    }
   ],
   "source": [
    "print('O novo raio é: ', circ1.getRaio())"
   ]
  },
  {
   "cell_type": "code",
   "execution_count": 13,
   "metadata": {},
   "outputs": [
    {
     "name": "stdout",
     "output_type": "stream",
     "text": [
      "A nova area é:  314.0\n"
     ]
    }
   ],
   "source": [
    "print('A nova area é: ', circ1.area())"
   ]
  },
  {
   "cell_type": "markdown",
   "metadata": {},
   "source": [
    "#### HERANÇA DE CLASSE"
   ]
  },
  {
   "cell_type": "markdown",
   "metadata": {},
   "source": [
    "Herança é um conceito que permite criar novas classes a partir de classes existentes, aproveitando os atributos e métodos da classe original e adicionando novos atributos e métodos específicos.<br/>\n",
    "A classe original é chamada de superclasse e a nova classe criada é chamada de subclasse.<br/>\n",
    "A herança é uma técnica importante em POO porque permite reutilzar o código de maneira eficiente. Em vez, de criar uma nova classe do zero, a subclasse pode herdar todos os atributos e métodos da superclasse e adicionar o que é necessário. Dessa forma, a subclasse pode ser concentrar em fornecer funcionalidades adicionais sem precisar se preocupar com as características básicas da classe.<br/>\n",
    "Na herança, a subclasse pode herdar os atributos e métodos da superclasse e substuituí-los ou estendê-los conforme necessário. Por exemplo, uma subclasse pode ter um método com o mesmo nome que um método da superclasse, com um comportamento diferente."
   ]
  },
  {
   "cell_type": "code",
   "execution_count": 14,
   "metadata": {},
   "outputs": [],
   "source": [
    "### Definindo a classe Principal\n",
    "class Animal:\n",
    "    ## Definindo o Construtor da classe Principal\n",
    "    def __init__(self):\n",
    "        print('Animal criado')\n",
    "    ## Criando métodos gerais da classe Principal\n",
    "    def imprimir(self):\n",
    "        print('Este objeto é da classe animal.')\n",
    "    ## Outro método geral\n",
    "    def comer(self):\n",
    "        print('Hora de comer.')\n",
    "    ## Método limpo, sem função para ser reutilizado pelas outras classes\n",
    "    def emitir_som(self):\n",
    "        pass"
   ]
  },
  {
   "cell_type": "code",
   "execution_count": 27,
   "metadata": {},
   "outputs": [],
   "source": [
    "## Classe Secundária\n",
    "class Camaleao(Animal):\n",
    "    ## Definindo o Construtor da Classe Secundária\n",
    "    def __init__(self):\n",
    "        super().__init__()\n",
    "        print('Objeto Camaleao criado')\n",
    "    ## Sobreescrevendo o método 'emitir_som' da classe Principal\n",
    "    def emitir_som(self):\n",
    "        print('Glu glu glu')"
   ]
  },
  {
   "cell_type": "code",
   "execution_count": 30,
   "metadata": {},
   "outputs": [],
   "source": [
    "## Classe Secundária\n",
    "class Gato(Animal):\n",
    "    ## Definindo o Construtor da outra classe Secundária\n",
    "    def __init__(self):\n",
    "        super().__init__()\n",
    "        print('Objeto Gato criado')\n",
    "    ## Sobreescrevendo o método 'emitir_som' da classe Principal\n",
    "    def emitir_som(self):\n",
    "        print('Miau miau')"
   ]
  },
  {
   "cell_type": "code",
   "execution_count": 29,
   "metadata": {},
   "outputs": [
    {
     "name": "stdout",
     "output_type": "stream",
     "text": [
      "Animal criado\n",
      "Objeto Camaleao criado\n"
     ]
    }
   ],
   "source": [
    "## Criando instanciando das classes Secundárias\n",
    "hugo = Camaleao()"
   ]
  },
  {
   "cell_type": "code",
   "execution_count": 31,
   "metadata": {},
   "outputs": [
    {
     "name": "stdout",
     "output_type": "stream",
     "text": [
      "Animal criado\n",
      "Objeto Gato criado\n"
     ]
    }
   ],
   "source": [
    "## Criando instanciando das classes Secundárias\n",
    "fernando = Gato()"
   ]
  },
  {
   "cell_type": "code",
   "execution_count": 33,
   "metadata": {},
   "outputs": [
    {
     "name": "stdout",
     "output_type": "stream",
     "text": [
      "Glu glu glu\n"
     ]
    }
   ],
   "source": [
    "## Gerando as informação do método da classe secundária\n",
    "hugo.emitir_som()"
   ]
  },
  {
   "cell_type": "code",
   "execution_count": 34,
   "metadata": {},
   "outputs": [
    {
     "name": "stdout",
     "output_type": "stream",
     "text": [
      "Miau miau\n"
     ]
    }
   ],
   "source": [
    "## Gerando as informação do método da classe secundária\n",
    "fernando.emitir_som()"
   ]
  },
  {
   "cell_type": "code",
   "execution_count": 35,
   "metadata": {},
   "outputs": [
    {
     "name": "stdout",
     "output_type": "stream",
     "text": [
      "Hora de comer.\n"
     ]
    }
   ],
   "source": [
    "## Informação do método super, da classe Principal\n",
    "fernando.comer()"
   ]
  },
  {
   "cell_type": "code",
   "execution_count": 36,
   "metadata": {},
   "outputs": [
    {
     "name": "stdout",
     "output_type": "stream",
     "text": [
      "Este objeto é da classe animal.\n"
     ]
    }
   ],
   "source": [
    "## Informação do método super, da classe Principal\n",
    "hugo.imprimir()"
   ]
  },
  {
   "cell_type": "markdown",
   "metadata": {},
   "source": [
    "#### POLIMORFISMO DE CLASSE"
   ]
  },
  {
   "cell_type": "code",
   "execution_count": 37,
   "metadata": {},
   "outputs": [],
   "source": [
    "## SuperClasse\n",
    "class Veiculo:\n",
    "    def __init__(self, marca, modelo):\n",
    "        self.marca = marca\n",
    "        self.modelo = modelo\n",
    "    def acelerar(self):\n",
    "        pass\n",
    "    def frear(self):\n",
    "        pass"
   ]
  },
  {
   "cell_type": "code",
   "execution_count": 38,
   "metadata": {},
   "outputs": [],
   "source": [
    "## SubClasse\n",
    "class Carro(Veiculo):\n",
    "    ## Não criar método construtor, para utilizar da superClasse\n",
    "    def acelerar(self):\n",
    "        print('Carro acelerando')\n",
    "    def frear(self):\n",
    "        print('O carro está freando')"
   ]
  },
  {
   "cell_type": "code",
   "execution_count": 39,
   "metadata": {},
   "outputs": [],
   "source": [
    "## Subclasse\n",
    "class Moto(Veiculo):\n",
    "    def acelerar(self):\n",
    "        print('A moto está acelerando')\n",
    "    def frear(self):\n",
    "        print('A moto está freando.')"
   ]
  },
  {
   "cell_type": "code",
   "execution_count": 43,
   "metadata": {},
   "outputs": [],
   "source": [
    "## Nova subclasse como um método a mais\n",
    "class Aviao(Veiculo):\n",
    "    def acelerar(self):\n",
    "        print('O avião está acelerando')\n",
    "    def frear(self):\n",
    "        print('O avião freando')\n",
    "    def decolar(self):\n",
    "        print('O avião está decolando')"
   ]
  },
  {
   "cell_type": "code",
   "execution_count": 44,
   "metadata": {},
   "outputs": [],
   "source": [
    "## Criando os objetos\n",
    "lista_veiculos = [Carro('Porche', '911 Turbo'), Moto('Honda', 'CB 1000R BE'), Aviao('Boing 711', 757)]"
   ]
  },
  {
   "cell_type": "code",
   "execution_count": 45,
   "metadata": {},
   "outputs": [
    {
     "name": "stdout",
     "output_type": "stream",
     "text": [
      "Carro acelerando\n",
      "O carro está freando\n",
      "---------\n",
      "A moto está acelerando\n",
      "A moto está freando.\n",
      "---------\n",
      "O avião está acelerando\n",
      "O avião freando\n",
      "O avião está decolando\n",
      "---------\n"
     ]
    }
   ],
   "source": [
    "### Varreando os métodos de cada classe\n",
    "for item in lista_veiculos:\n",
    "    ## O método  acelerar  tem comportamento  diferente  dependendo do tipo do objeto\n",
    "    item.acelerar()\n",
    "\n",
    "    ## O método frear tem comportamento diferente dependendo do tipo do objeto\n",
    "    item.frear()\n",
    "\n",
    "    # Executando o método 'decolar' somente se o objeto for instancia da classe Avião\n",
    "    if isinstance(item, Aviao):\n",
    "        item.decolar()\n",
    "    print('---------')"
   ]
  },
  {
   "cell_type": "code",
   "execution_count": null,
   "metadata": {},
   "outputs": [],
   "source": []
  }
 ],
 "metadata": {
  "kernelspec": {
   "display_name": "base",
   "language": "python",
   "name": "python3"
  },
  "language_info": {
   "codemirror_mode": {
    "name": "ipython",
    "version": 3
   },
   "file_extension": ".py",
   "mimetype": "text/x-python",
   "name": "python",
   "nbconvert_exporter": "python",
   "pygments_lexer": "ipython3",
   "version": "3.9.13"
  },
  "orig_nbformat": 4
 },
 "nbformat": 4,
 "nbformat_minor": 2
}
