{
 "cells": [
  {
   "attachments": {},
   "cell_type": "markdown",
   "metadata": {},
   "source": [
    "### <center> Introdução à Programação Orientada a Objeto</center>"
   ]
  },
  {
   "attachments": {},
   "cell_type": "markdown",
   "metadata": {},
   "source": [
    "As classes são usadas para criar objetos, que são instâncias da classe. Cada objeto a partir da mesma classe terá os mesmos atributos e comportamentos.</br>\n",
    "Para criar uma classe em Python, utiliza-se a palavra reservada 'CLASS'.</br>\n",
    "O nome da classe segue a mesma convenção de nomes para criação de funções e variáveis em Python, mas normalmente se usa a primeira letra maiúscula em cada palavra no nome da classe."
   ]
  },
  {
   "cell_type": "code",
   "execution_count": 1,
   "metadata": {},
   "outputs": [],
   "source": [
    "## PRIMEIRA CLASSE\n",
    "class Livro():\n",
    "    ## Toda função dentro de uma classe é chamado de método.\n",
    "    def __init__(self):\n",
    "        self.titulo = 'Sapiens  - Uma breve história do mundo'\n",
    "        self.isbn = 98875681\n",
    "        print('Construtor chamado para criar um objeto desta classe.')\n",
    "    ## Este método (construtor) vai inicializar cada objeto a partir desta classe\n",
    "    ## O nome deste método é __init__\n",
    "    # O termo self é uma referência a cada atributo da própria classe, e não de uma classe mãe, por exemplo.\n",
    "\n",
    "    def imprime(self):\n",
    "        print(f'Foi criado o livro {self.titulo} com o ISBN {self.isbn}.')\n",
    "    # Métodos são funções que executam ações nos objetos da classe."
   ]
  },
  {
   "cell_type": "code",
   "execution_count": 2,
   "metadata": {},
   "outputs": [
    {
     "name": "stdout",
     "output_type": "stream",
     "text": [
      "Construtor chamado para criar um objeto desta classe.\n"
     ]
    }
   ],
   "source": [
    "Livro1 = Livro()"
   ]
  },
  {
   "cell_type": "code",
   "execution_count": 3,
   "metadata": {},
   "outputs": [
    {
     "data": {
      "text/plain": [
       "__main__.Livro"
      ]
     },
     "execution_count": 3,
     "metadata": {},
     "output_type": "execute_result"
    }
   ],
   "source": [
    "## Investigando o tipo do objeto 'Livro1'\n",
    "type(Livro1)\n",
    "## O tipo do objeto 'Livro1' é o tipo 'Livro()', uma classe declarada acima"
   ]
  },
  {
   "cell_type": "code",
   "execution_count": 4,
   "metadata": {},
   "outputs": [
    {
     "name": "stdout",
     "output_type": "stream",
     "text": [
      "O titulo do Livro é Sapiens  - Uma breve história do mundo\n"
     ]
    }
   ],
   "source": [
    "## Podemos utilizar atributos e métodos da classe pai\n",
    "print(f'O titulo do Livro é {Livro1.titulo}')"
   ]
  },
  {
   "cell_type": "code",
   "execution_count": 5,
   "metadata": {},
   "outputs": [
    {
     "name": "stdout",
     "output_type": "stream",
     "text": [
      "Foi criado o livro Sapiens  - Uma breve história do mundo com o ISBN 98875681.\n"
     ]
    }
   ],
   "source": [
    "## Podemos utilizar atributos e métodos da classe pai\n",
    "Livro1.imprime()"
   ]
  },
  {
   "cell_type": "code",
   "execution_count": 6,
   "metadata": {},
   "outputs": [],
   "source": [
    "## Recriando a classe Livro com parametros\n",
    "class Livro():\n",
    "    def __init__(self, titulo, isbn):\n",
    "        self.tituloLivro = titulo\n",
    "        self.isbnLivro = isbn\n",
    "        print('Objeto inicializado pelo uso do construtor')\n",
    "        ## Esse primeiro print é opcional - somente para evidenciar a criação\n",
    "    def imprime(self, titulo, isbn):\n",
    "        print(f'Este é o livro {titulo} e ISBN {isbn}')"
   ]
  },
  {
   "cell_type": "code",
   "execution_count": 7,
   "metadata": {},
   "outputs": [
    {
     "name": "stdout",
     "output_type": "stream",
     "text": [
      "Objeto inicializado pelo uso do construtor\n"
     ]
    }
   ],
   "source": [
    "## Criando o objeto Livro2 que é uma instancia da classe Livro (da segunda classe)\n",
    "Livro2 = Livro('O monge e o Executivo', '5889743bs23')\n",
    "    ## É necessário ter os parâmetros dentro do método da classe\n",
    "    ## A resposta será o retorno da construção ou a impressão das informações do método."
   ]
  },
  {
   "cell_type": "code",
   "execution_count": 8,
   "metadata": {},
   "outputs": [
    {
     "name": "stdout",
     "output_type": "stream",
     "text": [
      "O isbn do segundo livro construido é 5889743bs23\n"
     ]
    }
   ],
   "source": [
    "## Extraindo os atributos da segunda classe\n",
    "print(f'O isbn do segundo livro construido é {Livro2.isbnLivro}')"
   ]
  },
  {
   "cell_type": "code",
   "execution_count": 9,
   "metadata": {},
   "outputs": [
    {
     "name": "stdout",
     "output_type": "stream",
     "text": [
      "O titulo do segundo livro é O monge e o Executivo\n"
     ]
    }
   ],
   "source": [
    "## Extraindo os atributos da segunda classe\n",
    "print(f'O titulo do segundo livro é {Livro2.tituloLivro}')"
   ]
  },
  {
   "cell_type": "code",
   "execution_count": 10,
   "metadata": {},
   "outputs": [
    {
     "name": "stdout",
     "output_type": "stream",
     "text": [
      "Este é o livro Vicio e ISBN 598756\n"
     ]
    }
   ],
   "source": [
    "## Extraindo o método da segunda classe\n",
    "Livro2.imprime('Vicio', 598756)"
   ]
  },
  {
   "cell_type": "code",
   "execution_count": 11,
   "metadata": {},
   "outputs": [],
   "source": [
    "## Criando uma nova classe para fixação\n",
    "class Algoritmo():\n",
    "    def __init__(self, algumTipo):\n",
    "        self.tipo = algumTipo\n",
    "        print('Construtor chamado para criar um objeto da classe')"
   ]
  },
  {
   "cell_type": "code",
   "execution_count": 12,
   "metadata": {},
   "outputs": [
    {
     "name": "stdout",
     "output_type": "stream",
     "text": [
      "Construtor chamado para criar um objeto da classe\n"
     ]
    }
   ],
   "source": [
    "algo1 = Algoritmo('Deep Learning')"
   ]
  },
  {
   "cell_type": "code",
   "execution_count": 13,
   "metadata": {},
   "outputs": [
    {
     "name": "stdout",
     "output_type": "stream",
     "text": [
      "Construtor chamado para criar um objeto da classe\n"
     ]
    }
   ],
   "source": [
    "algo2 = Algoritmo('No SQL')"
   ]
  },
  {
   "cell_type": "code",
   "execution_count": 14,
   "metadata": {},
   "outputs": [
    {
     "data": {
      "text/plain": [
       "'Deep Learning'"
      ]
     },
     "execution_count": 14,
     "metadata": {},
     "output_type": "execute_result"
    }
   ],
   "source": [
    "algo1.tipo"
   ]
  },
  {
   "cell_type": "code",
   "execution_count": 15,
   "metadata": {},
   "outputs": [
    {
     "data": {
      "text/plain": [
       "'No SQL'"
      ]
     },
     "execution_count": 15,
     "metadata": {},
     "output_type": "execute_result"
    }
   ],
   "source": [
    "algo2.tipo"
   ]
  },
  {
   "cell_type": "code",
   "execution_count": 16,
   "metadata": {},
   "outputs": [],
   "source": [
    "## Nova Classe para Fixação\n",
    "class Funcionarios:\n",
    "    def __init__(self, nome, salario, cargo):\n",
    "        self.nomeFunc = nome\n",
    "        self.salarioFunc = salario\n",
    "        self.cargoFunc = cargo\n",
    "    def listFunc(self):\n",
    "        print(f'O funcionario é {self.nomeFunc} e seu salario é R$ {self.salarioFunc}, pois tem o cargo {self.cargoFunc}.')"
   ]
  },
  {
   "cell_type": "code",
   "execution_count": 17,
   "metadata": {},
   "outputs": [],
   "source": [
    "func1 = Funcionarios('Gustavo', '3.975,25', 'Analista de TI')"
   ]
  },
  {
   "cell_type": "code",
   "execution_count": 18,
   "metadata": {},
   "outputs": [
    {
     "name": "stdout",
     "output_type": "stream",
     "text": [
      "O funcionario é Gustavo e seu salario é R$ 3.975,25, pois tem o cargo Analista de TI.\n"
     ]
    }
   ],
   "source": [
    "func1.listFunc()"
   ]
  },
  {
   "cell_type": "code",
   "execution_count": 20,
   "metadata": {},
   "outputs": [],
   "source": [
    "## Atributos de pesquisa\n",
    "    ## HASATTR\n",
    "    ## SETATTR\n",
    "    ## GETATTR\n",
    "    ## DELATTR"
   ]
  }
 ],
 "metadata": {
  "kernelspec": {
   "display_name": "base",
   "language": "python",
   "name": "python3"
  },
  "language_info": {
   "codemirror_mode": {
    "name": "ipython",
    "version": 3
   },
   "file_extension": ".py",
   "mimetype": "text/x-python",
   "name": "python",
   "nbconvert_exporter": "python",
   "pygments_lexer": "ipython3",
   "version": "3.9.13"
  },
  "orig_nbformat": 4
 },
 "nbformat": 4,
 "nbformat_minor": 2
}
